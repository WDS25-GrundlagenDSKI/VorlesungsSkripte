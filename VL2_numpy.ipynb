{
 "cells": [
  {
   "cell_type": "markdown",
   "id": "461873be",
   "metadata": {},
   "source": [
    "## The NumPy Array\n",
    "Basierend auf Kyran Dale\n",
    "https://github.com/Kyrand/dataviz-with-python-and-js-ed-2.git"
   ]
  },
  {
   "metadata": {},
   "cell_type": "markdown",
   "source": [
    "# Das ist eine Überschrift 1\n",
    "## Das ist eine Überschrift 2\n",
    "\n",
    "**Fett** oder normal geschriebener Text\n",
    "- Aufzählungspunkt 1\n",
    "- Aufzählungspunkt 2\n",
    "\n",
    "1. Nummerierte Liste Punkt 1\n",
    "2. Nummerierte Liste Punkt 2\n"
   ],
   "id": "5594a75d314696b7"
  },
  {
   "metadata": {},
   "cell_type": "markdown",
   "source": "",
   "id": "2f530afd88b8b19c"
  },
  {
   "metadata": {},
   "cell_type": "code",
   "outputs": [],
   "execution_count": null,
   "source": "",
   "id": "9b5d074206593bb3"
  },
  {
   "metadata": {
    "ExecuteTime": {
     "end_time": "2025-10-09T10:08:53.484409Z",
     "start_time": "2025-10-09T10:08:50.298869Z"
    }
   },
   "cell_type": "code",
   "source": [
    "# installation von Paketen\n",
    "pip install numpy"
   ],
   "id": "43787d248afb3c11",
   "outputs": [
    {
     "name": "stdout",
     "output_type": "stream",
     "text": [
      "Defaulting to user installation because normal site-packages is not writeable\r\n",
      "Collecting numpy\r\n",
      "  Downloading numpy-2.0.2-cp39-cp39-macosx_14_0_arm64.whl.metadata (60 kB)\r\n",
      "Downloading numpy-2.0.2-cp39-cp39-macosx_14_0_arm64.whl (5.3 MB)\r\n",
      "\u001B[2K   \u001B[90m━━━━━━━━━━━━━━━━━━━━━━━━━━━━━━━━━━━━━━━━\u001B[0m \u001B[32m5.3/5.3 MB\u001B[0m \u001B[31m22.6 MB/s\u001B[0m eta \u001B[36m0:00:00\u001B[0ma \u001B[36m0:00:01\u001B[0m\r\n",
      "\u001B[?25hInstalling collected packages: numpy\r\n",
      "\u001B[33m  WARNING: The scripts f2py and numpy-config are installed in '/Users/schoch/Library/Python/3.9/bin' which is not on PATH.\r\n",
      "  Consider adding this directory to PATH or, if you prefer to suppress this warning, use --no-warn-script-location.\u001B[0m\u001B[33m\r\n",
      "\u001B[0mSuccessfully installed numpy-2.0.2\r\n",
      "\r\n",
      "\u001B[1m[\u001B[0m\u001B[34;49mnotice\u001B[0m\u001B[1;39;49m]\u001B[0m\u001B[39;49m A new release of pip is available: \u001B[0m\u001B[31;49m24.3.1\u001B[0m\u001B[39;49m -> \u001B[0m\u001B[32;49m25.2\u001B[0m\r\n",
      "\u001B[1m[\u001B[0m\u001B[34;49mnotice\u001B[0m\u001B[1;39;49m]\u001B[0m\u001B[39;49m To update, run: \u001B[0m\u001B[32;49m/Library/Developer/CommandLineTools/usr/bin/python3 -m pip install --upgrade pip\u001B[0m\r\n",
      "Note: you may need to restart the kernel to use updated packages.\n"
     ]
    }
   ],
   "execution_count": 5
  },
  {
   "cell_type": "code",
   "id": "2119148a",
   "metadata": {
    "ExecuteTime": {
     "end_time": "2025-10-12T20:03:09.266398Z",
     "start_time": "2025-10-12T20:03:09.079389Z"
    }
   },
   "source": [
    "import numpy as np"
   ],
   "outputs": [],
   "execution_count": 1
  },
  {
   "cell_type": "code",
   "metadata": {
    "ExecuteTime": {
     "end_time": "2025-10-12T20:03:11.351905Z",
     "start_time": "2025-10-12T20:03:11.349527Z"
    }
   },
   "source": [
    "print('Hallo Welt')"
   ],
   "id": "8b7b07f1fc503b13",
   "outputs": [
    {
     "name": "stdout",
     "output_type": "stream",
     "text": [
      "Hallo Welt\n"
     ]
    }
   ],
   "execution_count": 2
  },
  {
   "cell_type": "code",
   "id": "7b97f055",
   "metadata": {
    "ExecuteTime": {
     "end_time": "2025-10-12T20:03:13.448964Z",
     "start_time": "2025-10-12T20:03:13.445203Z"
    }
   },
   "source": [
    "a = np.array([1, 2, 3]) # Horizontaler Vektor\n",
    "a1 = np.array([[1], [2], [3]]) # Vertikaler Vektor\n",
    "\n",
    "b = np.array([1,2,3,'text'])\n",
    "\n",
    "print('a = ', a)\n",
    "print('a+a = ', a + a)\n",
    "print('a1 = ', a1)\n",
    "print('b = ',b)\n"
   ],
   "outputs": [
    {
     "name": "stdout",
     "output_type": "stream",
     "text": [
      "a =  [1 2 3]\n",
      "a+a =  [2 4 6]\n",
      "a1 =  [[1]\n",
      " [2]\n",
      " [3]]\n",
      "b =  ['1' '2' '3' 'text']\n"
     ]
    }
   ],
   "execution_count": 3
  },
  {
   "cell_type": "code",
   "id": "b959798c",
   "metadata": {
    "ExecuteTime": {
     "end_time": "2025-10-12T20:03:16.748384Z",
     "start_time": "2025-10-12T20:03:16.745576Z"
    }
   },
   "source": [
    "def print_array_details(a):\n",
    "    print('Dimensions: %d, shape: %s, dtype: %s'%(a.ndim, a.shape, a.dtype))"
   ],
   "outputs": [],
   "execution_count": 4
  },
  {
   "cell_type": "code",
   "execution_count": 53,
   "metadata": {},
   "outputs": [
    {
     "name": "stdout",
     "output_type": "stream",
     "text": [
      "Dimensions: 1, shape: (3,), dtype: int64\n",
      "Dimensions: 2, shape: (3, 1), dtype: int64\n",
      "Dimensions: 1, shape: (4,), dtype: <U21\n"
     ]
    }
   ],
   "source": [
    "print_array_details(a)\n",
    "print_array_details(a1)\n",
    "print_array_details(b)"
   ],
   "id": "28b9ce5c3e4e49d6"
  },
  {
   "cell_type": "code",
   "id": "b903f03d",
   "metadata": {
    "ExecuteTime": {
     "end_time": "2025-10-12T20:03:33.960121Z",
     "start_time": "2025-10-12T20:03:33.957145Z"
    }
   },
   "source": [
    "a = np.array([1, 2, 3, 4, 5, 6, 7, 8])\n",
    "# Alternativ\n",
    "a1 = np.array(list(range(1,10,1))) # range erzeugt Zahlen von 1 bis 10 mit Abstand 1\n",
    "print('a1 = ', a1)"
   ],
   "outputs": [
    {
     "name": "stdout",
     "output_type": "stream",
     "text": [
      "a1 =  [1 2 3 4 5 6 7 8 9]\n"
     ]
    }
   ],
   "execution_count": 8
  },
  {
   "cell_type": "code",
   "id": "86816d83",
   "metadata": {
    "ExecuteTime": {
     "end_time": "2025-10-12T20:03:21.409290Z",
     "start_time": "2025-10-12T20:03:21.406463Z"
    }
   },
   "source": [
    "print_array_details(a)"
   ],
   "outputs": [
    {
     "name": "stdout",
     "output_type": "stream",
     "text": [
      "Dimensions: 1, shape: (9,), dtype: int64\n"
     ]
    }
   ],
   "execution_count": 6
  },
  {
   "cell_type": "code",
   "id": "5bb56cb9",
   "metadata": {
    "ExecuteTime": {
     "end_time": "2025-10-12T20:03:35.892784Z",
     "start_time": "2025-10-12T20:03:35.889869Z"
    }
   },
   "source": [
    "a = a.reshape([2, 4])\n",
    "print('a =', a)\n",
    "print_array_details(a)"
   ],
   "outputs": [
    {
     "name": "stdout",
     "output_type": "stream",
     "text": [
      "a = [[1 2 3 4]\n",
      " [5 6 7 8]]\n",
      "Dimensions: 2, shape: (2, 4), dtype: int64\n"
     ]
    }
   ],
   "execution_count": 9
  },
  {
   "cell_type": "code",
   "id": "2c85dd8c",
   "metadata": {
    "ExecuteTime": {
     "end_time": "2025-10-12T20:03:37.709955Z",
     "start_time": "2025-10-12T20:03:37.706952Z"
    }
   },
   "source": [
    "a = a.reshape([2, 2, 2])\n",
    "print('a =', a)"
   ],
   "outputs": [
    {
     "name": "stdout",
     "output_type": "stream",
     "text": [
      "a = [[[1 2]\n",
      "  [3 4]]\n",
      "\n",
      " [[5 6]\n",
      "  [7 8]]]\n"
     ]
    }
   ],
   "execution_count": 10
  },
  {
   "cell_type": "code",
   "id": "ae1f74ee",
   "metadata": {
    "ExecuteTime": {
     "end_time": "2025-10-12T20:03:39.441730Z",
     "start_time": "2025-10-12T20:03:39.438992Z"
    }
   },
   "source": [
    "print_array_details(a)"
   ],
   "outputs": [
    {
     "name": "stdout",
     "output_type": "stream",
     "text": [
      "Dimensions: 3, shape: (2, 2, 2), dtype: int64\n"
     ]
    }
   ],
   "execution_count": 11
  },
  {
   "cell_type": "code",
   "id": "da8134d1",
   "metadata": {
    "ExecuteTime": {
     "end_time": "2025-10-12T20:03:40.724189Z",
     "start_time": "2025-10-12T20:03:40.718863Z"
    }
   },
   "source": [
    "x = np.array([[1, 2, 3], [4, 5, 6]], np.int32)\n",
    "x.shape"
   ],
   "outputs": [
    {
     "data": {
      "text/plain": [
       "(2, 3)"
      ]
     },
     "execution_count": 12,
     "metadata": {},
     "output_type": "execute_result"
    }
   ],
   "execution_count": 12
  },
  {
   "cell_type": "code",
   "id": "66134d9c",
   "metadata": {
    "ExecuteTime": {
     "end_time": "2025-10-12T20:03:42.187544Z",
     "start_time": "2025-10-12T20:03:42.183832Z"
    }
   },
   "source": [
    "x.shape = (6,)\n",
    "x"
   ],
   "outputs": [
    {
     "data": {
      "text/plain": [
       "array([1, 2, 3, 4, 5, 6], dtype=int32)"
      ]
     },
     "execution_count": 13,
     "metadata": {},
     "output_type": "execute_result"
    }
   ],
   "execution_count": 13
  },
  {
   "cell_type": "code",
   "id": "9d58461f",
   "metadata": {
    "ExecuteTime": {
     "end_time": "2025-10-12T20:03:43.723886Z",
     "start_time": "2025-10-12T20:03:43.720165Z"
    }
   },
   "source": [
    "x = x.astype('int64')\n",
    "x.dtype"
   ],
   "outputs": [
    {
     "data": {
      "text/plain": [
       "dtype('int64')"
      ]
     },
     "execution_count": 14,
     "metadata": {},
     "output_type": "execute_result"
    }
   ],
   "execution_count": 14
  },
  {
   "cell_type": "markdown",
   "id": "13e50618",
   "metadata": {},
   "source": [
    "## Creating Arrays"
   ]
  },
  {
   "cell_type": "code",
   "id": "06449c13",
   "metadata": {
    "ExecuteTime": {
     "end_time": "2025-10-12T20:03:45.239649Z",
     "start_time": "2025-10-12T20:03:45.236748Z"
    }
   },
   "source": [
    "a = np.zeros([2,3])\n",
    "print(\"a = \", a)\n",
    "print(a.dtype)"
   ],
   "outputs": [
    {
     "name": "stdout",
     "output_type": "stream",
     "text": [
      "a =  [[0. 0. 0.]\n",
      " [0. 0. 0.]]\n",
      "float64\n"
     ]
    }
   ],
   "execution_count": 15
  },
  {
   "cell_type": "code",
   "id": "7c922133",
   "metadata": {
    "ExecuteTime": {
     "end_time": "2025-10-12T20:03:47.060308Z",
     "start_time": "2025-10-12T20:03:47.056714Z"
    }
   },
   "source": [
    "np.ones([2, 3])"
   ],
   "outputs": [
    {
     "data": {
      "text/plain": [
       "array([[1., 1., 1.],\n",
       "       [1., 1., 1.]])"
      ]
     },
     "execution_count": 16,
     "metadata": {},
     "output_type": "execute_result"
    }
   ],
   "execution_count": 16
  },
  {
   "cell_type": "code",
   "id": "d8323530",
   "metadata": {
    "ExecuteTime": {
     "end_time": "2025-10-12T20:03:48.835903Z",
     "start_time": "2025-10-12T20:03:48.833209Z"
    }
   },
   "source": [
    "empty_array = np.empty((2,3))\n",
    "print(\"empty_array = \", empty_array) # Die Werte des Arrays sind nicht-deterministisch\n",
    "print(empty_array.dtype)"
   ],
   "outputs": [
    {
     "name": "stdout",
     "output_type": "stream",
     "text": [
      "empty_array =  [[0. 0. 0.]\n",
      " [0. 0. 0.]]\n",
      "float64\n"
     ]
    }
   ],
   "execution_count": 17
  },
  {
   "cell_type": "code",
   "id": "96e7d90d",
   "metadata": {
    "ExecuteTime": {
     "end_time": "2025-10-12T20:03:50.847752Z",
     "start_time": "2025-10-12T20:03:50.650905Z"
    }
   },
   "source": [
    "np.random.random((2,3)) # random: Random Sampling in numpy; random: Werte zwischen 0<=x<1"
   ],
   "outputs": [
    {
     "data": {
      "text/plain": [
       "array([[0.1655644 , 0.11423698, 0.89103831],\n",
       "       [0.22773487, 0.48818005, 0.30738167]])"
      ]
     },
     "execution_count": 18,
     "metadata": {},
     "output_type": "execute_result"
    }
   ],
   "execution_count": 18
  },
  {
   "cell_type": "code",
   "metadata": {
    "ExecuteTime": {
     "end_time": "2025-10-12T20:03:52.747325Z",
     "start_time": "2025-10-12T20:03:52.743601Z"
    }
   },
   "source": [
    "np.random.normal(0,1, (2,3)) # normal: Normalverteilung mit Mittelwert 0, Standardabweichung 1 und Shape (2,3)"
   ],
   "id": "a8a490f81e0e31d0",
   "outputs": [
    {
     "data": {
      "text/plain": [
       "array([[ 2.28016991,  1.85619225, -0.56020727],\n",
       "       [ 1.21291637,  0.19544503,  0.82007965]])"
      ]
     },
     "execution_count": 19,
     "metadata": {},
     "output_type": "execute_result"
    }
   ],
   "execution_count": 19
  },
  {
   "cell_type": "code",
   "id": "6962a38b",
   "metadata": {
    "ExecuteTime": {
     "end_time": "2025-10-12T20:03:54.331826Z",
     "start_time": "2025-10-12T20:03:54.328524Z"
    }
   },
   "source": [
    "a = np.linspace(2, 10, 5) # 5 numbers in range 2-10\n",
    "print(\"a = \", a)\n",
    "print(a.dtype)"
   ],
   "outputs": [
    {
     "name": "stdout",
     "output_type": "stream",
     "text": [
      "a =  [ 2.  4.  6.  8. 10.]\n",
      "float64\n"
     ]
    }
   ],
   "execution_count": 20
  },
  {
   "cell_type": "code",
   "id": "6fe4d1bc",
   "metadata": {
    "ExecuteTime": {
     "end_time": "2025-10-12T20:03:55.797529Z",
     "start_time": "2025-10-12T20:03:55.793795Z"
    }
   },
   "source": [
    "a = np.arange(2, 10, 2)\n",
    "print(\"a = \", a)\n",
    "print(a.dtype)\n",
    "\n",
    "b = np.arange(2, 10, 2.)\n",
    "print(\"b = \", b)\n",
    "print(b.dtype)"
   ],
   "outputs": [
    {
     "name": "stdout",
     "output_type": "stream",
     "text": [
      "a =  [2 4 6 8]\n",
      "int64\n",
      "b =  [2. 4. 6. 8.]\n",
      "float64\n"
     ]
    }
   ],
   "execution_count": 21
  },
  {
   "cell_type": "markdown",
   "metadata": {},
   "source": [
    "## Aufgabe"
   ],
   "id": "338fdf46d640e52a"
  },
  {
   "cell_type": "code",
   "metadata": {
    "ExecuteTime": {
     "end_time": "2025-10-12T20:03:59.211013Z",
     "start_time": "2025-10-12T20:03:59.207425Z"
    }
   },
   "source": [
    "import numpy as np # falls noch nicht importiert\n",
    "\n",
    "arr = np.arange(10)\n",
    "print(\"Array:\", arr)\n",
    "print(\"Dimension:\", arr.ndim)\n",
    "print(\"Shape:\", arr.shape)\n",
    "print(\"Datentyp:\", arr.dtype)"
   ],
   "id": "2e8b875f1aa680e5",
   "outputs": [
    {
     "name": "stdout",
     "output_type": "stream",
     "text": [
      "Array: [0 1 2 3 4 5 6 7 8 9]\n",
      "Dimension: 1\n",
      "Shape: (10,)\n",
      "Datentyp: int64\n"
     ]
    }
   ],
   "execution_count": 22
  },
  {
   "cell_type": "code",
   "metadata": {
    "ExecuteTime": {
     "end_time": "2025-10-12T20:04:00.832597Z",
     "start_time": "2025-10-12T20:04:00.827795Z"
    }
   },
   "source": [
    "a = np.array([1, 2, 3, 4, 5])\n",
    "b = np.array([10, 20, 30, 40, 50])\n",
    "\n",
    "print(\"Addition:\", a + b)\n",
    "print(\"Subtraktion:\", a - b)\n",
    "print(\"Multiplikation:\", a * b)\n",
    "print(\"Mittelwert a:\", np.mean(a))\n",
    "print(\"Mittelwert b:\", np.mean(b))\n",
    "\n",
    "a1 = a\n",
    "a1[a1<np.mean(a1)] = 0\n",
    "print(\"Alle Elemente <mean(a)=0: \", a1)\n",
    "\n",
    "b1 = b\n",
    "b1[b1<np.mean(b1)] = 0\n",
    "print(\"Alle Elemente <mean(b)=0: \", b1)"
   ],
   "id": "3ac6d8db1149f4b2",
   "outputs": [
    {
     "name": "stdout",
     "output_type": "stream",
     "text": [
      "Addition: [11 22 33 44 55]\n",
      "Subtraktion: [ -9 -18 -27 -36 -45]\n",
      "Multiplikation: [ 10  40  90 160 250]\n",
      "Mittelwert a: 3.0\n",
      "Mittelwert b: 30.0\n",
      "Alle Elemente <mean(a)=0:  [0 0 3 4 5]\n",
      "Alle Elemente <mean(b)=0:  [ 0  0 30 40 50]\n"
     ]
    }
   ],
   "execution_count": 23
  },
  {
   "cell_type": "markdown",
   "id": "26f4a50b",
   "metadata": {},
   "source": [
    "## Array Indexing and Slicing"
   ]
  },
  {
   "cell_type": "code",
   "id": "d83b3aeb",
   "metadata": {
    "ExecuteTime": {
     "end_time": "2025-10-12T20:04:03.541625Z",
     "start_time": "2025-10-12T20:04:03.538845Z"
    }
   },
   "source": [
    "a = np.array([1, 2, 3, 4, 5, 6])\n",
    "print(\"a[2] = \", a[2])\n"
   ],
   "outputs": [
    {
     "name": "stdout",
     "output_type": "stream",
     "text": [
      "a[2] =  3\n"
     ]
    }
   ],
   "execution_count": 24
  },
  {
   "cell_type": "code",
   "id": "f852bd1d",
   "metadata": {
    "ExecuteTime": {
     "end_time": "2025-10-12T20:04:05.159165Z",
     "start_time": "2025-10-12T20:04:05.155815Z"
    }
   },
   "source": [
    "a[3:5]"
   ],
   "outputs": [
    {
     "data": {
      "text/plain": [
       "array([4, 5])"
      ]
     },
     "execution_count": 25,
     "metadata": {},
     "output_type": "execute_result"
    }
   ],
   "execution_count": 25
  },
  {
   "cell_type": "code",
   "id": "a7d56fe6",
   "metadata": {
    "ExecuteTime": {
     "end_time": "2025-10-12T20:04:06.511265Z",
     "start_time": "2025-10-12T20:04:06.506308Z"
    }
   },
   "source": [
    "# every second item from 0-4 set to 0\n",
    "a[:4:2] = 0\n",
    "a"
   ],
   "outputs": [
    {
     "data": {
      "text/plain": [
       "array([0, 2, 0, 4, 5, 6])"
      ]
     },
     "execution_count": 26,
     "metadata": {},
     "output_type": "execute_result"
    }
   ],
   "execution_count": 26
  },
  {
   "cell_type": "code",
   "id": "1361a189",
   "metadata": {
    "ExecuteTime": {
     "end_time": "2025-10-12T20:04:08.066436Z",
     "start_time": "2025-10-12T20:04:08.062906Z"
    }
   },
   "source": [
    "a[::-1]"
   ],
   "outputs": [
    {
     "data": {
      "text/plain": [
       "array([6, 5, 4, 0, 2, 0])"
      ]
     },
     "execution_count": 27,
     "metadata": {},
     "output_type": "execute_result"
    }
   ],
   "execution_count": 27
  },
  {
   "cell_type": "code",
   "metadata": {
    "ExecuteTime": {
     "end_time": "2025-10-12T20:04:09.436508Z",
     "start_time": "2025-10-12T20:04:09.433144Z"
    }
   },
   "source": [
    "a = np.arange(16)\n",
    "a = a.reshape(2,2,4)\n",
    "print(a)"
   ],
   "id": "3b8b71ebd433fcd4",
   "outputs": [
    {
     "name": "stdout",
     "output_type": "stream",
     "text": [
      "[[[ 0  1  2  3]\n",
      "  [ 4  5  6  7]]\n",
      "\n",
      " [[ 8  9 10 11]\n",
      "  [12 13 14 15]]]\n"
     ]
    }
   ],
   "execution_count": 28
  },
  {
   "cell_type": "code",
   "metadata": {
    "ExecuteTime": {
     "end_time": "2025-10-12T20:04:10.987517Z",
     "start_time": "2025-10-12T20:04:10.984142Z"
    }
   },
   "source": [
    "print(a[0])\n",
    "print(np.array_equal(a[0,:,:], a[0]))\n",
    "print(a[0,0,:])"
   ],
   "id": "30f8fd3dbabbfed7",
   "outputs": [
    {
     "name": "stdout",
     "output_type": "stream",
     "text": [
      "[[0 1 2 3]\n",
      " [4 5 6 7]]\n",
      "True\n",
      "[0 1 2 3]\n"
     ]
    }
   ],
   "execution_count": 29
  },
  {
   "cell_type": "code",
   "metadata": {
    "ExecuteTime": {
     "end_time": "2025-10-12T20:04:12.857137Z",
     "start_time": "2025-10-12T20:04:12.853982Z"
    }
   },
   "source": [
    "print(a[0,0,::2])"
   ],
   "id": "57e402ce4bb85c70",
   "outputs": [
    {
     "name": "stdout",
     "output_type": "stream",
     "text": [
      "[0 2]\n"
     ]
    }
   ],
   "execution_count": 30
  },
  {
   "cell_type": "markdown",
   "metadata": {},
   "source": [
    "# Fancy Indexing"
   ],
   "id": "e807344a110c8cb1"
  },
  {
   "cell_type": "code",
   "metadata": {
    "ExecuteTime": {
     "end_time": "2025-10-12T20:04:14.995962Z",
     "start_time": "2025-10-12T20:04:14.992556Z"
    }
   },
   "source": [
    "a = np.arange(10)\n",
    "print('a = ', a)\n",
    "i = np.array([2, 1, 8, 4]) # array aus indizes\n",
    "a[i] = 99\n",
    "print('a = ', a)"
   ],
   "id": "84fb3bfbd804f6db",
   "outputs": [
    {
     "name": "stdout",
     "output_type": "stream",
     "text": [
      "a =  [0 1 2 3 4 5 6 7 8 9]\n",
      "a =  [ 0 99 99  3 99  5  6  7 99  9]\n"
     ]
    }
   ],
   "execution_count": 31
  },
  {
   "cell_type": "code",
   "metadata": {
    "ExecuteTime": {
     "end_time": "2025-10-12T20:04:16.486933Z",
     "start_time": "2025-10-12T20:04:16.483912Z"
    }
   },
   "source": [
    "a[i] -= 10\n",
    "print('a = ', a)"
   ],
   "id": "3febf73061b19811",
   "outputs": [
    {
     "name": "stdout",
     "output_type": "stream",
     "text": [
      "a =  [ 0 89 89  3 89  5  6  7 89  9]\n"
     ]
    }
   ],
   "execution_count": 32
  },
  {
   "cell_type": "code",
   "metadata": {
    "ExecuteTime": {
     "end_time": "2025-10-12T20:04:18.011733Z",
     "start_time": "2025-10-12T20:04:18.008518Z"
    }
   },
   "source": [
    "# Auswahl Werte mit geradem Index ab 0\n",
    "print('a = ', a[::2])"
   ],
   "id": "a1a4ac1be9feb09b",
   "outputs": [
    {
     "name": "stdout",
     "output_type": "stream",
     "text": [
      "a =  [ 0 89 89  6 89]\n"
     ]
    }
   ],
   "execution_count": 33
  },
  {
   "cell_type": "code",
   "metadata": {
    "ExecuteTime": {
     "end_time": "2025-10-12T20:04:19.152579Z",
     "start_time": "2025-10-12T20:04:19.149295Z"
    }
   },
   "source": [
    "# Boolsche Indexierung\n",
    "print('a = ', a<10)"
   ],
   "id": "1b95d70658f792ae",
   "outputs": [
    {
     "name": "stdout",
     "output_type": "stream",
     "text": [
      "a =  [ True False False  True False  True  True  True False  True]\n"
     ]
    }
   ],
   "execution_count": 34
  },
  {
   "cell_type": "markdown",
   "id": "d9bcb765",
   "metadata": {},
   "source": [
    "## A Few Basic Operations"
   ]
  },
  {
   "cell_type": "code",
   "id": "524515bb",
   "metadata": {
    "ExecuteTime": {
     "end_time": "2025-10-12T20:04:21.125479Z",
     "start_time": "2025-10-12T20:04:21.121940Z"
    }
   },
   "source": [
    "a = np.arange(6)\n",
    "a = a.reshape(2,3)\n",
    "print('a = ', a)\n",
    "print('a+2 = ', a+2)\n",
    "print('a-2 = ', a-2)\n",
    "print('a/2 = ', a/2.0)"
   ],
   "outputs": [
    {
     "name": "stdout",
     "output_type": "stream",
     "text": [
      "a =  [[0 1 2]\n",
      " [3 4 5]]\n",
      "a+2 =  [[2 3 4]\n",
      " [5 6 7]]\n",
      "a-2 =  [[-2 -1  0]\n",
      " [ 1  2  3]]\n",
      "a/2 =  [[0.  0.5 1. ]\n",
      " [1.5 2.  2.5]]\n"
     ]
    }
   ],
   "execution_count": 35
  },
  {
   "cell_type": "code",
   "metadata": {
    "ExecuteTime": {
     "end_time": "2025-10-12T20:04:23.333531Z",
     "start_time": "2025-10-12T20:04:23.330033Z"
    }
   },
   "source": [
    "a = np.array([45, 65, 76, 32, 99, 22])\n",
    "a < 50"
   ],
   "id": "3ab343a6d7a8c4b8",
   "outputs": [
    {
     "data": {
      "text/plain": [
       "array([ True, False, False,  True, False,  True])"
      ]
     },
     "execution_count": 36,
     "metadata": {},
     "output_type": "execute_result"
    }
   ],
   "execution_count": 36
  },
  {
   "cell_type": "code",
   "id": "9b078973",
   "metadata": {
    "ExecuteTime": {
     "end_time": "2025-10-12T20:05:07.591839Z",
     "start_time": "2025-10-12T20:05:07.587327Z"
    }
   },
   "source": [
    "# Some array methods\n",
    "a = np.arange(8).reshape((2,4))\n",
    "print('a = ', a)\n",
    "\n",
    "# Minimum\n",
    "print('a.min(axis=1) = ', a.min(axis=1))\n",
    "# Summe\n",
    "print('a.sum(axis=0) = ', a.sum(axis=0))\n",
    "# Mittelwert\n",
    "print('a.mean(axis=1) = ', a.mean(axis=1))\n",
    "# Standardabweichung\n",
    "print('a.std(axis=1) = ', a.std(axis=1))"
   ],
   "outputs": [
    {
     "name": "stdout",
     "output_type": "stream",
     "text": [
      "a =  [[0 1 2 3]\n",
      " [4 5 6 7]]\n",
      "a.min(axis=1) =  [0 4]\n",
      "a.sum(axis=0) =  [ 4  6  8 10]\n",
      "a.mean(axis=1) =  [1.5 5.5]\n",
      "a.std(axis=1) =  [1.11803399 1.11803399]\n"
     ]
    }
   ],
   "execution_count": 42
  },
  {
   "cell_type": "code",
   "id": "e4338f9a",
   "metadata": {
    "ExecuteTime": {
     "end_time": "2025-10-12T20:05:08.998310Z",
     "start_time": "2025-10-12T20:05:08.994046Z"
    }
   },
   "source": [
    "# Trigonometric functions\n",
    "pi = np.pi\n",
    "a1 = np.array([pi, pi/2, pi/4, pi/6])\n",
    "np.degrees(a1) # radians to degrees"
   ],
   "outputs": [
    {
     "data": {
      "text/plain": [
       "array([180.,  90.,  45.,  30.])"
      ]
     },
     "execution_count": 43,
     "metadata": {},
     "output_type": "execute_result"
    }
   ],
   "execution_count": 43
  },
  {
   "cell_type": "code",
   "id": "bf3f0579",
   "metadata": {
    "ExecuteTime": {
     "end_time": "2025-10-12T20:05:10.637462Z",
     "start_time": "2025-10-12T20:05:10.632927Z"
    }
   },
   "source": [
    "sin_a1 = np.sin(a1)\n",
    "sin_a1"
   ],
   "outputs": [
    {
     "data": {
      "text/plain": [
       "array([1.22464680e-16, 1.00000000e+00, 7.07106781e-01, 5.00000000e-01])"
      ]
     },
     "execution_count": 44,
     "metadata": {},
     "output_type": "execute_result"
    }
   ],
   "execution_count": 44
  },
  {
   "cell_type": "code",
   "id": "3aec2322",
   "metadata": {
    "ExecuteTime": {
     "end_time": "2025-10-12T20:05:17.392729Z",
     "start_time": "2025-10-12T20:05:17.389283Z"
    }
   },
   "source": "np.cumsum(a, axis=1) # cumulative sum along second axis",
   "outputs": [
    {
     "data": {
      "text/plain": [
       "array([[ 0,  1,  3,  6],\n",
       "       [ 4,  9, 15, 22]])"
      ]
     },
     "execution_count": 46,
     "metadata": {},
     "output_type": "execute_result"
    }
   ],
   "execution_count": 46
  },
  {
   "cell_type": "code",
   "id": "95a1093b",
   "metadata": {
    "ExecuteTime": {
     "end_time": "2025-10-12T20:05:21.879985Z",
     "start_time": "2025-10-12T20:05:21.876919Z"
    }
   },
   "source": [
    "np.cumsum(a) # without axis argument, array is flattened"
   ],
   "outputs": [
    {
     "data": {
      "text/plain": [
       "array([ 0,  1,  3,  6, 10, 15, 21, 28])"
      ]
     },
     "execution_count": 47,
     "metadata": {},
     "output_type": "execute_result"
    }
   ],
   "execution_count": 47
  }
 ],
 "metadata": {
  "kernelspec": {
   "display_name": "Python 3 (ipykernel)",
   "language": "python",
   "name": "python3"
  },
  "language_info": {
   "codemirror_mode": {
    "name": "ipython",
    "version": 3
   },
   "file_extension": ".py",
   "mimetype": "text/x-python",
   "name": "python",
   "nbconvert_exporter": "python",
   "pygments_lexer": "ipython3",
   "version": "3.9.19"
  }
 },
 "nbformat": 4,
 "nbformat_minor": 5
}
