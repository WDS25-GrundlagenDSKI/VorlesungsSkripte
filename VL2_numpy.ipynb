{
 "cells": [
  {
   "cell_type": "markdown",
   "id": "461873be",
   "metadata": {},
   "source": [
    "## The NumPy Array\n",
    "Basierend auf Kyran Dale\n",
    "https://github.com/Kyrand/dataviz-with-python-and-js-ed-2.git"
   ]
  },
  {
   "metadata": {},
   "cell_type": "markdown",
   "source": [
    "# Das ist eine Überschrift 1\n",
    "## Das ist eine Überschrift 2\n",
    "\n",
    "**Fett** oder normal geschriebener Text\n",
    "- Aufzählungspunkt 1\n",
    "- Aufzählungspunkt 2\n",
    "\n",
    "1. Nummerierte Liste Punkt 1\n",
    "2. Nummerierte Liste Punkt 2\n"
   ],
   "id": "5594a75d314696b7"
  },
  {
   "cell_type": "code",
   "execution_count": 46,
   "id": "2119148a",
   "metadata": {},
   "outputs": [],
   "source": [
    "import numpy as np"
   ]
  },
  {
   "cell_type": "code",
   "execution_count": 47,
   "metadata": {},
   "outputs": [
    {
     "name": "stdout",
     "output_type": "stream",
     "text": [
      "Hallo Welt\n"
     ]
    }
   ],
   "source": [
    "print('Hallo Welt')"
   ],
   "id": "8b7b07f1fc503b13"
  },
  {
   "cell_type": "code",
   "execution_count": 51,
   "id": "7b97f055",
   "metadata": {},
   "outputs": [
    {
     "name": "stdout",
     "output_type": "stream",
     "text": [
      "a =  [1 2 3]\n",
      "a+a =  [2 4 6]\n",
      "a1 =  [[1]\n",
      " [2]\n",
      " [3]]\n",
      "b =  ['1' '2' '3' 'text']\n"
     ]
    }
   ],
   "source": [
    "a = np.array([1, 2, 3]) # Horizontaler Vektor\n",
    "a1 = np.array([[1], [2], [3]]) # Vertikaler Vektor\n",
    "\n",
    "b = np.array([1,2,3,'text'])\n",
    "\n",
    "print('a = ', a)\n",
    "print('a+a = ', a + a)\n",
    "print('a1 = ', a1)\n",
    "print('b = ',b)\n"
   ]
  },
  {
   "cell_type": "code",
   "execution_count": 52,
   "id": "b959798c",
   "metadata": {},
   "outputs": [],
   "source": [
    "def print_array_details(a):\n",
    "    print('Dimensions: %d, shape: %s, dtype: %s'%(a.ndim, a.shape, a.dtype))"
   ]
  },
  {
   "cell_type": "code",
   "execution_count": 53,
   "metadata": {},
   "outputs": [
    {
     "name": "stdout",
     "output_type": "stream",
     "text": [
      "Dimensions: 1, shape: (3,), dtype: int64\n",
      "Dimensions: 2, shape: (3, 1), dtype: int64\n",
      "Dimensions: 1, shape: (4,), dtype: <U21\n"
     ]
    }
   ],
   "source": [
    "print_array_details(a)\n",
    "print_array_details(a1)\n",
    "print_array_details(b)"
   ],
   "id": "28b9ce5c3e4e49d6"
  },
  {
   "cell_type": "code",
   "execution_count": 5,
   "id": "b903f03d",
   "metadata": {},
   "outputs": [
    {
     "name": "stdout",
     "output_type": "stream",
     "text": [
      "a1 =  [1 2 3 4 5 6 7 8 9]\n"
     ]
    }
   ],
   "source": [
    "a = np.array([1, 2, 3, 4, 5, 6, 7, 8])\n",
    "# Alternativ\n",
    "a1 = np.array(list(range(1,10,1))) # range erzeugt Zahlen von 1 bis 10 mit Abstand 1\n",
    "print('a1 = ', a1)"
   ]
  },
  {
   "cell_type": "code",
   "execution_count": 6,
   "id": "86816d83",
   "metadata": {},
   "outputs": [
    {
     "name": "stdout",
     "output_type": "stream",
     "text": [
      "Dimensions: 1, shape: (8,), dtype: int64\n"
     ]
    }
   ],
   "source": [
    "print_array_details(a)"
   ]
  },
  {
   "cell_type": "code",
   "execution_count": 7,
   "id": "5bb56cb9",
   "metadata": {},
   "outputs": [
    {
     "name": "stdout",
     "output_type": "stream",
     "text": [
      "a = [[1 2 3 4]\n",
      " [5 6 7 8]]\n",
      "Dimensions: 2, shape: (2, 4), dtype: int64\n"
     ]
    }
   ],
   "source": [
    "a = a.reshape([2, 4])\n",
    "print('a =', a)\n",
    "print_array_details(a)"
   ]
  },
  {
   "cell_type": "code",
   "execution_count": 8,
   "id": "2c85dd8c",
   "metadata": {},
   "outputs": [
    {
     "name": "stdout",
     "output_type": "stream",
     "text": [
      "a = [[[1 2]\n",
      "  [3 4]]\n",
      "\n",
      " [[5 6]\n",
      "  [7 8]]]\n"
     ]
    }
   ],
   "source": [
    "a = a.reshape([2, 2, 2])\n",
    "print('a =', a)"
   ]
  },
  {
   "cell_type": "code",
   "execution_count": 9,
   "id": "ae1f74ee",
   "metadata": {},
   "outputs": [
    {
     "name": "stdout",
     "output_type": "stream",
     "text": [
      "Dimensions: 3, shape: (2, 2, 2), dtype: int64\n"
     ]
    }
   ],
   "source": [
    "print_array_details(a)"
   ]
  },
  {
   "cell_type": "code",
   "execution_count": 10,
   "id": "da8134d1",
   "metadata": {},
   "outputs": [
    {
     "data": {
      "text/plain": [
       "(2, 3)"
      ]
     },
     "execution_count": 10,
     "metadata": {},
     "output_type": "execute_result"
    }
   ],
   "source": [
    "x = np.array([[1, 2, 3], [4, 5, 6]], np.int32)\n",
    "x.shape"
   ]
  },
  {
   "cell_type": "code",
   "execution_count": 11,
   "id": "66134d9c",
   "metadata": {},
   "outputs": [
    {
     "data": {
      "text/plain": [
       "array([1, 2, 3, 4, 5, 6], dtype=int32)"
      ]
     },
     "execution_count": 11,
     "metadata": {},
     "output_type": "execute_result"
    }
   ],
   "source": [
    "x.shape = (6,)\n",
    "x"
   ]
  },
  {
   "cell_type": "code",
   "execution_count": 12,
   "id": "9d58461f",
   "metadata": {},
   "outputs": [
    {
     "data": {
      "text/plain": [
       "dtype('int64')"
      ]
     },
     "execution_count": 12,
     "metadata": {},
     "output_type": "execute_result"
    }
   ],
   "source": [
    "x = x.astype('int64')\n",
    "x.dtype"
   ]
  },
  {
   "cell_type": "markdown",
   "id": "13e50618",
   "metadata": {},
   "source": [
    "## Creating Arrays"
   ]
  },
  {
   "cell_type": "code",
   "execution_count": 13,
   "id": "06449c13",
   "metadata": {},
   "outputs": [
    {
     "name": "stdout",
     "output_type": "stream",
     "text": [
      "a =  [[0. 0. 0.]\n",
      " [0. 0. 0.]]\n",
      "float64\n"
     ]
    }
   ],
   "source": [
    "a = np.zeros([2,3])\n",
    "print(\"a = \", a)\n",
    "print(a.dtype)"
   ]
  },
  {
   "cell_type": "code",
   "execution_count": 14,
   "id": "7c922133",
   "metadata": {},
   "outputs": [
    {
     "data": {
      "text/plain": [
       "array([[1., 1., 1.],\n",
       "       [1., 1., 1.]])"
      ]
     },
     "execution_count": 14,
     "metadata": {},
     "output_type": "execute_result"
    }
   ],
   "source": [
    "np.ones([2, 3])"
   ]
  },
  {
   "cell_type": "code",
   "execution_count": 15,
   "id": "d8323530",
   "metadata": {},
   "outputs": [
    {
     "name": "stdout",
     "output_type": "stream",
     "text": [
      "empty_array =  [[1. 1. 1.]\n",
      " [1. 1. 1.]]\n",
      "float64\n"
     ]
    }
   ],
   "source": [
    "empty_array = np.empty((2,3))\n",
    "print(\"empty_array = \", empty_array) # Die Werte des Arrays sind nicht-deterministisch\n",
    "print(empty_array.dtype)"
   ]
  },
  {
   "cell_type": "code",
   "execution_count": 16,
   "id": "96e7d90d",
   "metadata": {},
   "outputs": [
    {
     "data": {
      "text/plain": [
       "array([[0.28256321, 0.48164097, 0.60805239],\n",
       "       [0.58924103, 0.03214292, 0.25812   ]])"
      ]
     },
     "execution_count": 16,
     "metadata": {},
     "output_type": "execute_result"
    }
   ],
   "source": [
    "np.random.random((2,3)) # random: Random Sampling in numpy; random: Werte zwischen 0<=x<1"
   ]
  },
  {
   "cell_type": "code",
   "execution_count": 17,
   "metadata": {},
   "outputs": [
    {
     "data": {
      "text/plain": [
       "array([[ 1.88701447,  0.69063513,  0.06020494],\n",
       "       [-0.77279452, -0.15457942, -1.27727871]])"
      ]
     },
     "execution_count": 17,
     "metadata": {},
     "output_type": "execute_result"
    }
   ],
   "source": [
    "np.random.normal(0,1, (2,3)) # normal: Normalverteilung mit Mittelwert 0, Standardabweichung 1 und Shape (2,3)"
   ],
   "id": "a8a490f81e0e31d0"
  },
  {
   "cell_type": "code",
   "execution_count": 18,
   "id": "6962a38b",
   "metadata": {},
   "outputs": [
    {
     "name": "stdout",
     "output_type": "stream",
     "text": [
      "a =  [ 2.  4.  6.  8. 10.]\n",
      "float64\n"
     ]
    }
   ],
   "source": [
    "a = np.linspace(2, 10, 5) # 5 numbers in range 2-10\n",
    "print(\"a = \", a)\n",
    "print(a.dtype)"
   ]
  },
  {
   "cell_type": "code",
   "execution_count": 19,
   "id": "6fe4d1bc",
   "metadata": {},
   "outputs": [
    {
     "name": "stdout",
     "output_type": "stream",
     "text": [
      "a =  [2 4 6 8]\n",
      "int64\n",
      "b =  [2. 4. 6. 8.]\n",
      "float64\n"
     ]
    }
   ],
   "source": [
    "a = np.arange(2, 10, 2)\n",
    "print(\"a = \", a)\n",
    "print(a.dtype)\n",
    "\n",
    "b = np.arange(2, 10, 2.)\n",
    "print(\"b = \", b)\n",
    "print(b.dtype)"
   ]
  },
  {
   "cell_type": "markdown",
   "metadata": {},
   "source": [
    "## Aufgabe"
   ],
   "id": "338fdf46d640e52a"
  },
  {
   "cell_type": "code",
   "execution_count": 2,
   "metadata": {},
   "outputs": [
    {
     "name": "stdout",
     "output_type": "stream",
     "text": [
      "Array: [0 1 2 3 4 5 6 7 8 9]\n",
      "Dimension: 1\n",
      "Shape: (10,)\n",
      "Datentyp: int64\n"
     ]
    }
   ],
   "source": [
    "import numpy as np # falls noch nicht importiert\n",
    "\n",
    "arr = np.arange(10)\n",
    "print(\"Array:\", arr)\n",
    "print(\"Dimension:\", arr.ndim)\n",
    "print(\"Shape:\", arr.shape)\n",
    "print(\"Datentyp:\", arr.dtype)"
   ],
   "id": "2e8b875f1aa680e5"
  },
  {
   "cell_type": "code",
   "execution_count": 4,
   "metadata": {},
   "outputs": [
    {
     "name": "stdout",
     "output_type": "stream",
     "text": [
      "Addition: [11 22 33 44 55]\n",
      "Subtraktion: [ -9 -18 -27 -36 -45]\n",
      "Multiplikation: [ 10  40  90 160 250]\n",
      "Mittelwert a: 3.0\n",
      "Mittelwert b: 30.0\n",
      "Alle Elemente <mean(a)=0:  [0 0 3 4 5]\n",
      "Alle Elemente <mean(b)=0:  [ 0  0 30 40 50]\n"
     ]
    }
   ],
   "source": [
    "a = np.array([1, 2, 3, 4, 5])\n",
    "b = np.array([10, 20, 30, 40, 50])\n",
    "\n",
    "print(\"Addition:\", a + b)\n",
    "print(\"Subtraktion:\", a - b)\n",
    "print(\"Multiplikation:\", a * b)\n",
    "print(\"Mittelwert a:\", np.mean(a))\n",
    "print(\"Mittelwert b:\", np.mean(b))\n",
    "\n",
    "a1 = a\n",
    "a1[a1<np.mean(a1)] = 0\n",
    "print(\"Alle Elemente <mean(a)=0: \", a1)\n",
    "\n",
    "b1 = b\n",
    "b1[b1<np.mean(b1)] = 0\n",
    "print(\"Alle Elemente <mean(b)=0: \", b1)"
   ],
   "id": "3ac6d8db1149f4b2"
  },
  {
   "cell_type": "markdown",
   "id": "26f4a50b",
   "metadata": {},
   "source": [
    "## Array Indexing and Slicing"
   ]
  },
  {
   "cell_type": "code",
   "execution_count": 20,
   "id": "d83b3aeb",
   "metadata": {},
   "outputs": [
    {
     "name": "stdout",
     "output_type": "stream",
     "text": [
      "a[2] =  3\n"
     ]
    }
   ],
   "source": [
    "a = np.array([1, 2, 3, 4, 5, 6])\n",
    "print(\"a[2] = \", a[2])\n"
   ]
  },
  {
   "cell_type": "code",
   "execution_count": 21,
   "id": "f852bd1d",
   "metadata": {},
   "outputs": [
    {
     "data": {
      "text/plain": [
       "array([4, 5])"
      ]
     },
     "execution_count": 21,
     "metadata": {},
     "output_type": "execute_result"
    }
   ],
   "source": [
    "a[3:5]"
   ]
  },
  {
   "cell_type": "code",
   "execution_count": 22,
   "id": "a7d56fe6",
   "metadata": {},
   "outputs": [
    {
     "data": {
      "text/plain": [
       "array([0, 2, 0, 4, 5, 6])"
      ]
     },
     "execution_count": 22,
     "metadata": {},
     "output_type": "execute_result"
    }
   ],
   "source": [
    "# every second item from 0-4 set to 0\n",
    "a[:4:2] = 0\n",
    "a"
   ]
  },
  {
   "cell_type": "code",
   "execution_count": 23,
   "id": "1361a189",
   "metadata": {},
   "outputs": [
    {
     "data": {
      "text/plain": [
       "array([6, 5, 4, 0, 2, 0])"
      ]
     },
     "execution_count": 23,
     "metadata": {},
     "output_type": "execute_result"
    }
   ],
   "source": [
    "a[::-1]"
   ]
  },
  {
   "cell_type": "code",
   "execution_count": 24,
   "metadata": {},
   "outputs": [
    {
     "name": "stdout",
     "output_type": "stream",
     "text": [
      "[[[ 0  1  2  3]\n",
      "  [ 4  5  6  7]]\n",
      "\n",
      " [[ 8  9 10 11]\n",
      "  [12 13 14 15]]]\n"
     ]
    }
   ],
   "source": [
    "a = np.arange(16)\n",
    "a = a.reshape(2,2,4)\n",
    "print(a)"
   ],
   "id": "3b8b71ebd433fcd4"
  },
  {
   "cell_type": "code",
   "execution_count": 25,
   "metadata": {},
   "outputs": [
    {
     "name": "stdout",
     "output_type": "stream",
     "text": [
      "[[0 1 2 3]\n",
      " [4 5 6 7]]\n",
      "True\n",
      "[0 1 2 3]\n"
     ]
    }
   ],
   "source": [
    "print(a[0])\n",
    "print(np.array_equal(a[0,:,:], a[0]))\n",
    "print(a[0,0,:])"
   ],
   "id": "30f8fd3dbabbfed7"
  },
  {
   "cell_type": "code",
   "execution_count": 26,
   "metadata": {},
   "outputs": [
    {
     "name": "stdout",
     "output_type": "stream",
     "text": [
      "[0 2]\n"
     ]
    }
   ],
   "source": [
    "print(a[0,0,::2])"
   ],
   "id": "57e402ce4bb85c70"
  },
  {
   "cell_type": "markdown",
   "metadata": {},
   "source": [
    "# Fancy Indexing"
   ],
   "id": "e807344a110c8cb1"
  },
  {
   "cell_type": "code",
   "execution_count": 27,
   "metadata": {},
   "outputs": [
    {
     "name": "stdout",
     "output_type": "stream",
     "text": [
      "a =  [0 1 2 3 4 5 6 7 8 9]\n",
      "a =  [ 0 99 99  3 99  5  6  7 99  9]\n"
     ]
    }
   ],
   "source": [
    "a = np.arange(10)\n",
    "print('a = ', a)\n",
    "i = np.array([2, 1, 8, 4]) # array aus indizes\n",
    "a[i] = 99\n",
    "print('a = ', a)"
   ],
   "id": "84fb3bfbd804f6db"
  },
  {
   "cell_type": "code",
   "execution_count": 28,
   "metadata": {},
   "outputs": [
    {
     "name": "stdout",
     "output_type": "stream",
     "text": [
      "a =  [ 0 89 89  3 89  5  6  7 89  9]\n"
     ]
    }
   ],
   "source": [
    "a[i] -= 10\n",
    "print('a = ', a)"
   ],
   "id": "3febf73061b19811"
  },
  {
   "cell_type": "code",
   "execution_count": 29,
   "metadata": {},
   "outputs": [
    {
     "name": "stdout",
     "output_type": "stream",
     "text": [
      "a =  [ 0 89 89  6 89]\n"
     ]
    }
   ],
   "source": [
    "# Auswahl Werte mit geradem Index ab 0\n",
    "print('a = ', a[::2])"
   ],
   "id": "a1a4ac1be9feb09b"
  },
  {
   "cell_type": "code",
   "execution_count": 30,
   "metadata": {},
   "outputs": [
    {
     "name": "stdout",
     "output_type": "stream",
     "text": [
      "a =  [ True False False  True False  True  True  True False  True]\n"
     ]
    }
   ],
   "source": [
    "# Boolsche Indexierung\n",
    "print('a = ', a<10)"
   ],
   "id": "1b95d70658f792ae"
  },
  {
   "cell_type": "markdown",
   "id": "d9bcb765",
   "metadata": {},
   "source": [
    "## A Few Basic Operations"
   ]
  },
  {
   "cell_type": "code",
   "execution_count": 31,
   "id": "524515bb",
   "metadata": {},
   "outputs": [
    {
     "name": "stdout",
     "output_type": "stream",
     "text": [
      "a =  [[0 1 2]\n",
      " [3 4 5]]\n",
      "a+2 =  [[2 3 4]\n",
      " [5 6 7]]\n",
      "a-2 =  [[-2 -1  0]\n",
      " [ 1  2  3]]\n",
      "a/2 =  [[0.  0.5 1. ]\n",
      " [1.5 2.  2.5]]\n"
     ]
    }
   ],
   "source": [
    "a = np.arange(6)\n",
    "a = a.reshape(2,3)\n",
    "print('a = ', a)\n",
    "print('a+2 = ', a+2)\n",
    "print('a-2 = ', a-2)\n",
    "print('a/2 = ', a/2.0)"
   ]
  },
  {
   "cell_type": "code",
   "execution_count": 32,
   "metadata": {},
   "outputs": [
    {
     "data": {
      "text/plain": [
       "array([ True, False, False,  True, False,  True])"
      ]
     },
     "execution_count": 32,
     "metadata": {},
     "output_type": "execute_result"
    }
   ],
   "source": [
    "a = np.array([45, 65, 76, 32, 99, 22])\n",
    "a < 50"
   ],
   "id": "3ab343a6d7a8c4b8"
  },
  {
   "cell_type": "code",
   "execution_count": 33,
   "id": "9b078973",
   "metadata": {},
   "outputs": [
    {
     "name": "stdout",
     "output_type": "stream",
     "text": [
      "a =  [[0 1 2 3]\n",
      " [4 5 6 7]]\n",
      "a.min(axis=1) =  [0 4]\n",
      "a.sum(axis=0) =  [ 4  6  8 10]\n",
      "a.mean(axis=1) =  [1.5 5.5]\n",
      "a.std(axis=1) =  [1.11803399 1.11803399]\n"
     ]
    }
   ],
   "source": [
    "# Some array methods\n",
    "a = np.arange(8).reshape((2,4))\n",
    "print('a = ', a)\n",
    "\n",
    "# Minimum\n",
    "print('a.min(axis=1) = ', a.min(axis=1))\n",
    "# Summe\n",
    "print('a.sum(axis=0) = ', a.sum(axis=0))\n",
    "# Mittelwert\n",
    "print('a.mean(axis=1) = ', a.mean(axis=1))\n",
    "# Standardabweichung\n",
    "print('a.std(axis=1) = ', a.std(axis=1))"
   ]
  },
  {
   "cell_type": "code",
   "execution_count": 34,
   "id": "e4338f9a",
   "metadata": {},
   "outputs": [
    {
     "data": {
      "text/plain": [
       "array([180.,  90.,  45.,  30.])"
      ]
     },
     "execution_count": 34,
     "metadata": {},
     "output_type": "execute_result"
    }
   ],
   "source": [
    "# Trigonometric functions\n",
    "pi = np.pi\n",
    "a = np.array([pi, pi/2, pi/4, pi/6])\n",
    "np.degrees(a) # radians to degrees"
   ]
  },
  {
   "cell_type": "code",
   "execution_count": 35,
   "id": "bf3f0579",
   "metadata": {},
   "outputs": [
    {
     "data": {
      "text/plain": [
       "array([1.22464680e-16, 1.00000000e+00, 7.07106781e-01, 5.00000000e-01])"
      ]
     },
     "execution_count": 35,
     "metadata": {},
     "output_type": "execute_result"
    }
   ],
   "source": [
    "sin_a = np.sin(a)\n",
    "sin_a"
   ]
  },
  {
   "cell_type": "code",
   "execution_count": 38,
   "id": "3aec2322",
   "metadata": {},
   "outputs": [
    {
     "data": {
      "text/plain": [
       "array([[ 0,  1,  3,  6],\n",
       "       [ 4,  9, 15, 22]])"
      ]
     },
     "execution_count": 38,
     "metadata": {},
     "output_type": "execute_result"
    }
   ],
   "source": [
    "np.cumsum(a, axis=1) # cumulative sum along second axis"
   ]
  },
  {
   "cell_type": "code",
   "execution_count": 39,
   "id": "95a1093b",
   "metadata": {},
   "outputs": [
    {
     "data": {
      "text/plain": [
       "array([ 0,  1,  3,  6, 10, 15, 21, 28])"
      ]
     },
     "execution_count": 39,
     "metadata": {},
     "output_type": "execute_result"
    }
   ],
   "source": [
    "np.cumsum(a) # without axis argument, array is flattened"
   ]
  }
 ],
 "metadata": {
  "kernelspec": {
   "display_name": "Python 3 (ipykernel)",
   "language": "python",
   "name": "python3"
  },
  "language_info": {
   "codemirror_mode": {
    "name": "ipython",
    "version": 3
   },
   "file_extension": ".py",
   "mimetype": "text/x-python",
   "name": "python",
   "nbconvert_exporter": "python",
   "pygments_lexer": "ipython3",
   "version": "3.9.19"
  }
 },
 "nbformat": 4,
 "nbformat_minor": 5
}
