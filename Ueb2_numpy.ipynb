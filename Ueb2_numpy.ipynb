{
 "cells": [
  {
   "cell_type": "markdown",
   "metadata": {},
   "source": [
    "# NumPy-Arrays vs. Python-Listen\n",
    "## Aufgabe 3 Übungsblatt 2"
   ]
  },
  {
   "cell_type": "code",
   "execution_count": 1,
   "metadata": {},
   "outputs": [],
   "source": [
    "#!pip install numpy\n",
    "\n",
    "import numpy as np\n",
    "import time"
   ]
  },
  {
   "cell_type": "code",
   "execution_count": 2,
   "metadata": {},
   "outputs": [
    {
     "name": "stdout",
     "output_type": "stream",
     "text": [
      "[0 1 2 3 4 5 6 7 8 9]\n",
      "[0, 1, 2, 3, 4, 5, 6, 7, 8, 9]\n",
      "1000000\n"
     ]
    }
   ],
   "source": [
    "size = 1000000\n",
    "\n",
    "x = np.arange(size) # numpy-array zwischen 0-size mit Schrittgröße 1\n",
    "y = list(range(size)) # Python Liste mit Elementen 0-size mit Schrittgröße 1\n",
    "\n",
    "print(x[:10])\n",
    "print(y[:10])\n",
    "\n",
    "print(sum(x==y)) # Prüfen ob alle Elemente gleich sind\n",
    "\n"
   ]
  },
  {
   "cell_type": "code",
   "execution_count": 3,
   "metadata": {},
   "outputs": [
    {
     "name": "stdout",
     "output_type": "stream",
     "text": [
      "Dauer des Quadrierens:  0.00222015380859375\n",
      "[ 0  1  4  9 16 25 36 49 64 81]\n"
     ]
    }
   ],
   "source": [
    "# Numpy Array: Quadrieren der Elemente \n",
    "start = time.time()\n",
    "x_sq = np.square(x)\n",
    "end = time.time()\n",
    "print('Dauer des Quadrierens: ', end - start)\n",
    "print(x_sq[:10])"
   ]
  },
  {
   "cell_type": "code",
   "execution_count": 4,
   "metadata": {},
   "outputs": [
    {
     "name": "stdout",
     "output_type": "stream",
     "text": [
      "a =  [0 1 2 3 4 5 6 7 8 9]\n",
      "a^2 =  [ 2  3  0  1  6  7  4  5 10 11]\n",
      "x1^x2 =  1\n",
      "square(a) =  [ 0  1  4  9 16 25 36 49 64 81]\n",
      "a*a =  [ 0  1  4  9 16 25 36 49 64 81]\n",
      "a**2 =  [ 0  1  4  9 16 25 36 49 64 81]\n"
     ]
    }
   ],
   "source": [
    "# Power\n",
    "a = np.arange(10)\n",
    "print('a = ', a)\n",
    "print('a^2 = ', a^2) # Bitweises XOR\n",
    "x1 = 3 # Binär '11'\n",
    "x2 = 2 # Binär '10'\n",
    "print('x1^x2 = ', x1^x2) # Bitweises XOR: 1 XOR 1 = 0, 1 XOR 0 = 1, Ergebnis ist '01' in dezimalschreibeweise 1\n",
    "\n",
    "print('square(a) = ', np.square(a))\n",
    "print('a*a = ', a*a)\n",
    "print('a**2 = ', a**2)\n",
    "\n"
   ]
  },
  {
   "cell_type": "code",
   "execution_count": 5,
   "metadata": {},
   "outputs": [
    {
     "name": "stdout",
     "output_type": "stream",
     "text": [
      "0.2456209659576416\n",
      "[0, 1, 4, 9, 16, 25, 36, 49, 64, 81]\n",
      "1000000\n"
     ]
    }
   ],
   "source": [
    "# List - Loop - Quadrieren der Elemente\n",
    "y_sq = y\n",
    "start = time.time()\n",
    "for i in range(len(y)):\n",
    "    y_sq[i] = y[i]**2\n",
    "end = time.time()\n",
    "print(end - start)\n",
    "\n",
    "print(y_sq[:10])\n",
    "print(sum(y_sq == x_sq))"
   ]
  },
  {
   "cell_type": "code",
   "execution_count": 6,
   "metadata": {},
   "outputs": [
    {
     "name": "stdout",
     "output_type": "stream",
     "text": [
      "0.22321701049804688\n",
      "[0, 1, 4, 9, 16, 25, 36, 49, 64, 81]\n",
      "1000000\n"
     ]
    }
   ],
   "source": [
    "# List - Loop - List Comprehensions\n",
    "start = time.time()\n",
    "y_squared = [i ** 2 for i in y]\n",
    "end = time.time()\n",
    "print(end - start)\n",
    "\n",
    "print(y_sq[:10])\n",
    "print(sum(y_sq == x_sq))"
   ]
  },
  {
   "cell_type": "markdown",
   "metadata": {},
   "source": [
    "## Aufgabe 4 Übungsblatt 2"
   ]
  },
  {
   "cell_type": "code",
   "execution_count": 7,
   "metadata": {},
   "outputs": [
    {
     "name": "stdout",
     "output_type": "stream",
     "text": [
      "[[  1   2   3   4   5   6   7   8   9  10]\n",
      " [ 11  12  13  14  15  16  17  18  19  20]\n",
      " [ 21  22  23  24  25  26  27  28  29  30]\n",
      " [ 31  32  33  34  35  36  37  38  39  40]\n",
      " [ 41  42  43  44  45  46  47  48  49  50]\n",
      " [ 51  52  53  54  55  56  57  58  59  60]\n",
      " [ 61  62  63  64  65  66  67  68  69  70]\n",
      " [ 71  72  73  74  75  76  77  78  79  80]\n",
      " [ 81  82  83  84  85  86  87  88  89  90]\n",
      " [ 91  92  93  94  95  96  97  98  99 100]]\n"
     ]
    }
   ],
   "source": [
    "a = np.arange(100)\n",
    "a = a.reshape(10,10)+1\n",
    "print(a)"
   ]
  },
  {
   "cell_type": "code",
   "execution_count": 8,
   "metadata": {},
   "outputs": [
    {
     "name": "stdout",
     "output_type": "stream",
     "text": [
      "[[  1   2   3   4   5   6   7   8   9  10]\n",
      " [ 41  42  43  44  45  46  47  48  49  50]\n",
      " [ 91  92  93  94  95  96  97  98  99 100]]\n",
      "[[  1   2   3   4   5   6   7   8   9  10]\n",
      " [ 41  42  43  44  45  46  47  48  49  50]\n",
      " [ 91  92  93  94  95  96  97  98  99 100]]\n"
     ]
    }
   ],
   "source": [
    "print(a[[0,4,9],])\n",
    "print(a[[0,4,-1],])"
   ]
  },
  {
   "cell_type": "code",
   "execution_count": 9,
   "metadata": {},
   "outputs": [
    {
     "name": "stdout",
     "output_type": "stream",
     "text": [
      "[[13 17]\n",
      " [33 37]\n",
      " [53 57]\n",
      " [73 77]\n",
      " [93 97]]\n"
     ]
    }
   ],
   "source": [
    "print(a[1::2,[2,6]])\n"
   ]
  },
  {
   "cell_type": "code",
   "execution_count": 10,
   "metadata": {},
   "outputs": [
    {
     "name": "stdout",
     "output_type": "stream",
     "text": [
      "[[ 1  2  3]\n",
      " [11 12 13]\n",
      " [21 22 23]]\n"
     ]
    }
   ],
   "source": [
    "print(a[0:3,0:3])"
   ]
  },
  {
   "cell_type": "code",
   "execution_count": 11,
   "metadata": {},
   "outputs": [
    {
     "name": "stdout",
     "output_type": "stream",
     "text": [
      "[[  1   2   3   4   5   6   7   8   9  10]\n",
      " [-11 -12 -13 -14 -15 -16 -17 -18 -19 -20]\n",
      " [ 21  22  23  24  25  26  27  28  29  30]\n",
      " [-31 -32 -33 -34 -35 -36 -37 -38 -39 -40]\n",
      " [ 41  42  43  44  45  46  47  48  49  50]\n",
      " [ 51  52  53  54  55  56  57  58  59  60]\n",
      " [ 61  62  63  64  65  66  67  68  69  70]\n",
      " [ 71  72  73  74  75  76  77  78  79  80]\n",
      " [ 81  82  83  84  85  86  87  88  89  90]\n",
      " [ 91  92  93  94  95  96  97  98  99 100]]\n"
     ]
    }
   ],
   "source": [
    "a[[1,3],] = -a[[1,3],]\n",
    "print(a)"
   ]
  },
  {
   "cell_type": "code",
   "execution_count": 12,
   "metadata": {},
   "outputs": [
    {
     "name": "stdout",
     "output_type": "stream",
     "text": [
      "[[  0   0   0   0   0   0   0   0   0   0]\n",
      " [  0   0   0   0   0   0   0   0   0   0]\n",
      " [  0   0   0   0  25  26  27  28  29  30]\n",
      " [  0   0   0   0   0   0   0   0   0   0]\n",
      " [ 41  42  43  44  45  46  47  48  49  50]\n",
      " [ 51  52  53  54  55  56  57  58  59  60]\n",
      " [ 61  62  63  64  65  66  67  68  69  70]\n",
      " [ 71  72  73  74  75  76  77  78  79  80]\n",
      " [ 81  82  83  84  85  86  87  88  89  90]\n",
      " [ 91  92  93  94  95  96  97  98  99 100]]\n"
     ]
    }
   ],
   "source": [
    "a[a<25] = 0\n",
    "print(a)"
   ]
  }
 ],
 "metadata": {
  "kernelspec": {
   "display_name": "Python 3",
   "language": "python",
   "name": "python3"
  },
  "language_info": {
   "codemirror_mode": {
    "name": "ipython",
    "version": 3
   },
   "file_extension": ".py",
   "mimetype": "text/x-python",
   "name": "python",
   "nbconvert_exporter": "python",
   "pygments_lexer": "ipython3",
   "version": "3.9.19"
  }
 },
 "nbformat": 4,
 "nbformat_minor": 2
}
